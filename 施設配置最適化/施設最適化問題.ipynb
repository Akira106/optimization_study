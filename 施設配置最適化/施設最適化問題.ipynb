{
 "cells": [
  {
   "cell_type": "markdown",
   "metadata": {},
   "source": [
    "# 参考　https://qiita.com/SaitoTsutomu/items/39a7888594594ff59523"
   ]
  },
  {
   "cell_type": "markdown",
   "metadata": {},
   "source": [
    "- 利用者の初期化"
   ]
  },
  {
   "cell_type": "code",
   "execution_count": 25,
   "metadata": {},
   "outputs": [
    {
     "data": {
      "image/png": "[encoded data removed]",
      "text/plain": [
       "<Figure size 432x288 with 1 Axes>"
      ]
     },
     "metadata": {
      "needs_background": "light"
     },
     "output_type": "display_data"
    }
   ],
   "source": [
    "%matplotlib inline\n",
    "import numpy as np, pandas as pd, matplotlib.pyplot as plt\n",
    "import copy\n",
    "np.random.seed(1)\n",
    "\n",
    "n_user = 100\n",
    "n_cand_firehouse, n_firehouse = 100, 3\n",
    "loc_user = np.random.rand(n_user, 2)\n",
    "cand_loc_firehouse = copy.deepcopy(loc_user)\n",
    "plt.scatter(*loc_user.T);"
   ]
  },
  {
   "cell_type": "markdown",
   "metadata": {},
   "source": [
    "- 施設配置問題の定式化"
   ]
  },
  {
   "cell_type": "code",
   "execution_count": 39,
   "metadata": {},
   "outputs": [],
   "source": [
    "from pulp import *\n",
    "from ortoolpy import addbinvars, addvars\n",
    "\n",
    "m = LpProblem()\n",
    "x = addbinvars(n_user, n_cand_firehouse)\n",
    "y = addbinvars(n_cand_firehouse)\n",
    "m += lpSum(((loc_user[i][0]-cand_loc_firehouse[j][0])**2+(loc_user[i][1]-cand_loc_firehouse[j][1])**2) * x[i][j]\n",
    "           for i in range(n_user) for j in range(n_cand_firehouse))\n",
    "m += lpSum(y) <= n_firehouse\n",
    "for i in range(n_user): #利用者iは,1つの消防署のみに割り当てられる\n",
    "    m += lpSum(x[i]) == 1\n",
    "    for j in range(n_cand_firehouse): #消防署のない場所に、利用者を割り当てられない\n",
    "        m += x[i][j] <= y[j]"
   ]
  },
  {
   "cell_type": "markdown",
   "metadata": {},
   "source": [
    "- 最適化"
   ]
  },
  {
   "cell_type": "code",
   "execution_count": 40,
   "metadata": {},
   "outputs": [],
   "source": [
    "m.solve()\n",
    "result = [int(value(lpDot(range(n_cand_firehouse), x[i]))) for i in range(n_user)] #各利用者がどこの消防署に配置されるかのリスト"
   ]
  },
  {
   "cell_type": "markdown",
   "metadata": {},
   "source": [
    "- 可視化"
   ]
  },
  {
   "cell_type": "code",
   "execution_count": 42,
   "metadata": {},
   "outputs": [
    {
     "data": {
      "text/plain": [
       "<matplotlib.collections.PathCollection at 0x11d113a90>"
      ]
     },
     "execution_count": 42,
     "metadata": {},
     "output_type": "execute_result"
    },
    {
     "data": {
      "image/png": "[encoded data removed]",
      "text/plain": [
       "<Figure size 432x288 with 1 Axes>"
      ]
     },
     "metadata": {
      "needs_background": "light"
     },
     "output_type": "display_data"
    }
   ],
   "source": [
    "loc_firehouse = cand_loc_firehouse[np.unique(result)]\n",
    "plt.scatter(*loc_user.T)\n",
    "plt.scatter(*loc_firehouse.T)"
   ]
  },
  {
   "cell_type": "markdown",
   "metadata": {},
   "source": [
    "### 今の3箇所は固定で、もう1つ消防署を作る"
   ]
  },
  {
   "cell_type": "markdown",
   "metadata": {},
   "source": [
    "- yが消防署の配置の可否を決める → yを3箇所固定すれば良い"
   ]
  },
  {
   "cell_type": "code",
   "execution_count": 48,
   "metadata": {},
   "outputs": [],
   "source": [
    "n_firehouse = 4 #消防署を4つにする\n",
    "\n",
    "# 先ほどと全く同じ定式化\n",
    "m = LpProblem()\n",
    "x = addbinvars(n_user, n_cand_firehouse)\n",
    "y = addbinvars(n_cand_firehouse)\n",
    "m += lpSum(((loc_user[i][0]-cand_loc_firehouse[j][0])**2+(loc_user[i][1]-cand_loc_firehouse[j][1])**2) * x[i][j]\n",
    "           for i in range(n_user) for j in range(n_cand_firehouse))\n",
    "m += lpSum(y) <= n_firehouse\n",
    "for i in range(n_user): #利用者iは,1つの消防署のみに割り当てられる\n",
    "    m += lpSum(x[i]) == 1\n",
    "    for j in range(n_cand_firehouse): #消防署のない場所に、利用者を割り当てられない\n",
    "        m += x[i][j] <= y[j]"
   ]
  },
  {
   "cell_type": "code",
   "execution_count": 49,
   "metadata": {},
   "outputs": [],
   "source": [
    "# 消防署を3箇所固定する(追加の制約式)\n",
    "existing_firehouse = np.unique(result)\n",
    "for j in existing_firehouse:\n",
    "    m += y[j] >= 1"
   ]
  },
  {
   "cell_type": "markdown",
   "metadata": {},
   "source": [
    "- 最適化"
   ]
  },
  {
   "cell_type": "code",
   "execution_count": 50,
   "metadata": {},
   "outputs": [],
   "source": [
    "m.solve()\n",
    "result2 = [int(value(lpDot(range(n_cand_firehouse), x[i]))) for i in range(n_user)] #各利用者がどこの消防署に配置されるかのリスト"
   ]
  },
  {
   "cell_type": "markdown",
   "metadata": {},
   "source": [
    "- 可視化"
   ]
  },
  {
   "cell_type": "code",
   "execution_count": 57,
   "metadata": {},
   "outputs": [
    {
     "data": {
      "text/plain": [
       "<matplotlib.collections.PathCollection at 0x11aea4b50>"
      ]
     },
     "execution_count": 57,
     "metadata": {},
     "output_type": "execute_result"
    },
    {
     "data": {
      "image/png": "[encoded data removed]",
      "text/plain": [
       "<Figure size 432x288 with 1 Axes>"
      ]
     },
     "metadata": {
      "needs_background": "light"
     },
     "output_type": "display_data"
    }
   ],
   "source": [
    "loc_firehouse_add = cand_loc_firehouse[list(set(result)^set(result2))]\n",
    "plt.scatter(*loc_user.T)\n",
    "plt.scatter(*loc_firehouse.T)\n",
    "plt.scatter(*loc_firehouse_add.T)"
   ]
  },
  {
   "cell_type": "code",
   "execution_count": null,
   "metadata": {},
   "outputs": [],
   "source": []
  }
 ],
 "metadata": {
  "kernelspec": {
   "display_name": "Python 3",
   "language": "python",
   "name": "python3"
  },
  "language_info": {
   "codemirror_mode": {
    "name": "ipython",
    "version": 3
   },
   "file_extension": ".py",
   "mimetype": "text/x-python",
   "name": "python",
   "nbconvert_exporter": "python",
   "pygments_lexer": "ipython3",
   "version": "3.7.7"
  }
 },
 "nbformat": 4,
 "nbformat_minor": 4
}
